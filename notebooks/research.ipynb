{
 "cells": [
  {
   "cell_type": "code",
   "execution_count": 2,
   "id": "6898950d",
   "metadata": {},
   "outputs": [],
   "source": [
    "import logging\n",
    "import os\n",
    "from datetime import datetime"
   ]
  },
  {
   "cell_type": "code",
   "execution_count": 3,
   "id": "9fc67b04",
   "metadata": {},
   "outputs": [
    {
     "data": {
      "text/plain": [
       "datetime.datetime(2025, 7, 1, 13, 44, 41, 278903)"
      ]
     },
     "execution_count": 3,
     "metadata": {},
     "output_type": "execute_result"
    }
   ],
   "source": [
    "datetime.now()"
   ]
  },
  {
   "cell_type": "code",
   "execution_count": 4,
   "id": "6aaa0fa1",
   "metadata": {},
   "outputs": [
    {
     "data": {
      "text/plain": [
       "'07_01_2025_13_44_41.log'"
      ]
     },
     "execution_count": 4,
     "metadata": {},
     "output_type": "execute_result"
    }
   ],
   "source": [
    "f\"{datetime.now().strftime('%m_%d_%Y_%H_%M_%S')}.log\""
   ]
  },
  {
   "cell_type": "code",
   "execution_count": 5,
   "id": "694d0d0d",
   "metadata": {},
   "outputs": [
    {
     "data": {
      "text/plain": [
       "'d:\\\\ineuron all\\\\practice\\\\after 30.06.25\\\\DiamondPricePrediction\\\\notebooks\\\\logs'"
      ]
     },
     "execution_count": 5,
     "metadata": {},
     "output_type": "execute_result"
    }
   ],
   "source": [
    "os.path.join(os.getcwd(),\"logs\")"
   ]
  },
  {
   "cell_type": "code",
   "execution_count": 6,
   "id": "02774591",
   "metadata": {},
   "outputs": [
    {
     "data": {
      "text/plain": [
       "'artifacts\\\\raw.csv'"
      ]
     },
     "execution_count": 6,
     "metadata": {},
     "output_type": "execute_result"
    }
   ],
   "source": [
    "os.path.join(\"artifacts\",\"raw.csv\")"
   ]
  },
  {
   "cell_type": "code",
   "execution_count": 10,
   "id": "ee31fc1f",
   "metadata": {},
   "outputs": [],
   "source": [
    "os.makedirs(os.path.dirname(os.path.join(\"artifacts\",\"raw.csv\")),exist_ok=True)"
   ]
  },
  {
   "cell_type": "code",
   "execution_count": 13,
   "id": "9317f9c1",
   "metadata": {},
   "outputs": [],
   "source": [
    "def initiate_data_ingestion(self):\n",
    "        logging.info(\"data ingestion started\")\n",
    "        \n",
    "        try:\n",
    "            data=pd.read_csv(Path(os.path.join(\"notebooks/data\",\"gemstone.csv\")))\n",
    "            logging.info(\" i have read dataset as a df\")\n",
    "            \n",
    "            \n",
    "            os.makedirs(os.path.dirname(os.path.join(self.ingestion_config.raw_data_path)),exist_ok=True)\n",
    "            data.to_csv(self.ingestion_config.raw_data_path,index=False)\n",
    "            logging.info(\" i have saved the raw dataset in artifact folder\")\n",
    "            \n",
    "            logging.info(\"here i have performed train test split\")\n",
    "            \n",
    "            train_data,test_data=train_test_split(data,test_size=0.25)\n",
    "            logging.info(\"train test split completed\")\n",
    "            \n",
    "            train_data.to_csv(self.ingestion_config.train_data_path,index=False)\n",
    "            test_data.to_csv(self.ingestion_config.test_data_path,index=False)\n",
    "            \n",
    "            logging.info(\"data ingestion part completed\")\n",
    "            \n",
    "            return (\n",
    "                 \n",
    "                \n",
    "                self.ingestion_config.train_data_path,\n",
    "                self.ingestion_config.test_data_path\n",
    "            )\n",
    "            \n",
    "            \n",
    "        except Exception as e:\n",
    "           logging.info(\"exception during occured at data ingestion stage\")\n",
    "           raise customexception(e,sys)\n",
    "    "
   ]
  },
  {
   "cell_type": "code",
   "execution_count": 14,
   "id": "622b499b",
   "metadata": {},
   "outputs": [],
   "source": [
    "from src.DimondPricePrediction.components.data_ingestion import DataIngestion\n",
    "\n",
    "from src.DimondPricePrediction.components.data_transformation import DataTransformation\n",
    "\n",
    "from src.DimondPricePrediction.components.model_trainer import ModelTrainer\n",
    "import os\n",
    "import sys\n",
    "from src.DimondPricePrediction.logger import logging\n",
    "from src.DimondPricePrediction.exception import customexception\n",
    "import pandas as pd\n",
    "class TrainingPipeline:\n",
    "    def start_data_ingestion(self):\n",
    "        try:\n",
    "            data_ingestion=DataIngestion()\n",
    "            train_data_path,test_data_path=data_ingestion.initiate_data_ingestion()\n",
    "            return train_data_path,test_data_path\n",
    "        except Exception as e:\n",
    "            raise customexception(e,sys)\n",
    "        \n",
    "    def start_data_transformation(self,train_data_path,test_data_path):\n",
    "        \n",
    "        try:\n",
    "            data_transformation = DataTransformation()\n",
    "            train_arr,test_arr=data_transformation.initialize_data_transformation(train_data_path,test_data_path)\n",
    "            return train_arr,test_arr\n",
    "        except Exception as e:\n",
    "            raise customexception(e,sys)\n",
    "    \n",
    "    def start_model_training(self,train_arr,test_arr):\n",
    "        try:\n",
    "            model_trainer=ModelTrainer()\n",
    "            model_trainer.initate_model_training(train_arr,test_arr)\n",
    "        except Exception as e:\n",
    "            raise customexception(e,sys)\n",
    "                \n",
    "    def start_trainig(self):\n",
    "        try:\n",
    "            train_data_path,test_data_path=self.start_data_ingestion()\n",
    "            train_arr,test_arr=self.start_data_transformation(train_data_path,test_data_path)\n",
    "            self.start_model_training(train_arr,test_arr)\n",
    "        except Exception as e:\n",
    "            raise customexception(e,sys)"
   ]
  },
  {
   "cell_type": "code",
   "execution_count": null,
   "id": "d610f5a1",
   "metadata": {},
   "outputs": [],
   "source": []
  }
 ],
 "metadata": {
  "kernelspec": {
   "display_name": "Python 3",
   "language": "python",
   "name": "python3"
  },
  "language_info": {
   "codemirror_mode": {
    "name": "ipython",
    "version": 3
   },
   "file_extension": ".py",
   "mimetype": "text/x-python",
   "name": "python",
   "nbconvert_exporter": "python",
   "pygments_lexer": "ipython3",
   "version": "3.12.11"
  }
 },
 "nbformat": 4,
 "nbformat_minor": 5
}
